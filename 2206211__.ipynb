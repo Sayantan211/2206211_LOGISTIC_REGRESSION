{
 "cells": [
  {
   "cell_type": "markdown",
   "id": "9cb9766c-8979-43b3-85c8-1d0676211eeb",
   "metadata": {},
   "source": [
    "## LAB - 06 : Logistic Regression"
   ]
  },
  {
   "cell_type": "markdown",
   "id": "425711d4-cc02-4967-87c9-411ec2d3f036",
   "metadata": {},
   "source": [
    "#### Q6> In this assignment, you need to classify the given dataset using logistic regression.\n",
    "##### Database\n",
    "##### Independent/Predictor Variable - logisticX.csv\n",
    "##### Dependent/Response Variable - logisticY.csv \n",
    "##### Use the same cost function that we had discussed in class."
   ]
  },
  {
   "cell_type": "code",
   "execution_count": 3,
   "id": "ba4e80b0-e55b-45f7-881f-711cd555fb60",
   "metadata": {},
   "outputs": [],
   "source": [
    "import numpy as np\n",
    "import pandas as pd\n",
    "import matplotlib.pyplot as plt\n",
    "from sklearn.model_selection import train_test_split"
   ]
  },
  {
   "cell_type": "code",
   "execution_count": 4,
   "id": "5d8c3398-de8d-43d7-b93e-1476879c23b8",
   "metadata": {},
   "outputs": [],
   "source": [
    "x=pd.read_csv(\"logisticX.csv\",header=None)\n",
    "y=pd.read_csv(\"logisticY.csv\",header=None)"
   ]
  },
  {
   "cell_type": "code",
   "execution_count": 5,
   "id": "c70cea40-ed0d-4c52-8896-1a68ad5ed239",
   "metadata": {},
   "outputs": [
    {
     "data": {
      "text/html": [
       "<div>\n",
       "<style scoped>\n",
       "    .dataframe tbody tr th:only-of-type {\n",
       "        vertical-align: middle;\n",
       "    }\n",
       "\n",
       "    .dataframe tbody tr th {\n",
       "        vertical-align: top;\n",
       "    }\n",
       "\n",
       "    .dataframe thead th {\n",
       "        text-align: right;\n",
       "    }\n",
       "</style>\n",
       "<table border=\"1\" class=\"dataframe\">\n",
       "  <thead>\n",
       "    <tr style=\"text-align: right;\">\n",
       "      <th></th>\n",
       "      <th>0</th>\n",
       "      <th>1</th>\n",
       "    </tr>\n",
       "  </thead>\n",
       "  <tbody>\n",
       "    <tr>\n",
       "      <th>0</th>\n",
       "      <td>3.8915</td>\n",
       "      <td>4.2105</td>\n",
       "    </tr>\n",
       "    <tr>\n",
       "      <th>1</th>\n",
       "      <td>3.6898</td>\n",
       "      <td>6.6051</td>\n",
       "    </tr>\n",
       "    <tr>\n",
       "      <th>2</th>\n",
       "      <td>2.7763</td>\n",
       "      <td>7.5057</td>\n",
       "    </tr>\n",
       "    <tr>\n",
       "      <th>3</th>\n",
       "      <td>3.1137</td>\n",
       "      <td>5.7724</td>\n",
       "    </tr>\n",
       "    <tr>\n",
       "      <th>4</th>\n",
       "      <td>2.9251</td>\n",
       "      <td>5.4315</td>\n",
       "    </tr>\n",
       "  </tbody>\n",
       "</table>\n",
       "</div>"
      ],
      "text/plain": [
       "        0       1\n",
       "0  3.8915  4.2105\n",
       "1  3.6898  6.6051\n",
       "2  2.7763  7.5057\n",
       "3  3.1137  5.7724\n",
       "4  2.9251  5.4315"
      ]
     },
     "execution_count": 5,
     "metadata": {},
     "output_type": "execute_result"
    }
   ],
   "source": [
    "x.head()"
   ]
  },
  {
   "cell_type": "code",
   "execution_count": 6,
   "id": "3dd3b3c7-b579-4a0a-b2f8-48765e44a82f",
   "metadata": {},
   "outputs": [
    {
     "data": {
      "text/html": [
       "<div>\n",
       "<style scoped>\n",
       "    .dataframe tbody tr th:only-of-type {\n",
       "        vertical-align: middle;\n",
       "    }\n",
       "\n",
       "    .dataframe tbody tr th {\n",
       "        vertical-align: top;\n",
       "    }\n",
       "\n",
       "    .dataframe thead th {\n",
       "        text-align: right;\n",
       "    }\n",
       "</style>\n",
       "<table border=\"1\" class=\"dataframe\">\n",
       "  <thead>\n",
       "    <tr style=\"text-align: right;\">\n",
       "      <th></th>\n",
       "      <th>0</th>\n",
       "    </tr>\n",
       "  </thead>\n",
       "  <tbody>\n",
       "    <tr>\n",
       "      <th>0</th>\n",
       "      <td>0</td>\n",
       "    </tr>\n",
       "    <tr>\n",
       "      <th>1</th>\n",
       "      <td>0</td>\n",
       "    </tr>\n",
       "    <tr>\n",
       "      <th>2</th>\n",
       "      <td>0</td>\n",
       "    </tr>\n",
       "    <tr>\n",
       "      <th>3</th>\n",
       "      <td>0</td>\n",
       "    </tr>\n",
       "    <tr>\n",
       "      <th>4</th>\n",
       "      <td>0</td>\n",
       "    </tr>\n",
       "  </tbody>\n",
       "</table>\n",
       "</div>"
      ],
      "text/plain": [
       "   0\n",
       "0  0\n",
       "1  0\n",
       "2  0\n",
       "3  0\n",
       "4  0"
      ]
     },
     "execution_count": 6,
     "metadata": {},
     "output_type": "execute_result"
    }
   ],
   "source": [
    "y.head()"
   ]
  },
  {
   "cell_type": "code",
   "execution_count": 7,
   "id": "e10ed451-9454-4703-81a6-0d161690978c",
   "metadata": {},
   "outputs": [
    {
     "name": "stdout",
     "output_type": "stream",
     "text": [
      "X Shape: (100, 2)\n",
      "Y Shape: (100, 1)\n"
     ]
    }
   ],
   "source": [
    "print(\"X Shape:\",x.shape)\n",
    "print(\"Y Shape:\",y.shape)"
   ]
  },
  {
   "cell_type": "code",
   "execution_count": 8,
   "id": "8cc3c68f-617b-4ae3-b00a-788ba4905829",
   "metadata": {},
   "outputs": [
    {
     "name": "stdout",
     "output_type": "stream",
     "text": [
      "X Description:\n",
      "                 0           1\n",
      "count  100.000000  100.000000\n",
      "mean     4.618717    4.522868\n",
      "std      1.325572    1.394154\n",
      "min      1.440000    1.537200\n",
      "25%      3.706600    3.595875\n",
      "50%      4.523700    4.544700\n",
      "75%      5.539200    5.506450\n",
      "max      8.415300    7.505700\n",
      "Y Description:\n",
      "                 0\n",
      "count  100.000000\n",
      "mean     0.500000\n",
      "std      0.502519\n",
      "min      0.000000\n",
      "25%      0.000000\n",
      "50%      0.500000\n",
      "75%      1.000000\n",
      "max      1.000000\n"
     ]
    }
   ],
   "source": [
    "print(\"X Description:\\n\",x.describe())\n",
    "print(\"Y Description:\\n\",y.describe())"
   ]
  },
  {
   "cell_type": "code",
   "execution_count": 9,
   "id": "dc8eb12f-defe-42c0-a83d-a05152f5a971",
   "metadata": {},
   "outputs": [
    {
     "name": "stdout",
     "output_type": "stream",
     "text": [
      "Missing values in X:\n",
      " 0    0\n",
      "1    0\n",
      "dtype: int64\n",
      "Missing values in Y:\n",
      " 0    0\n",
      "dtype: int64\n"
     ]
    }
   ],
   "source": [
    "print(\"Missing values in X:\\n\",x.isnull().sum())\n",
    "print(\"Missing values in Y:\\n\",y.isnull().sum())"
   ]
  },
  {
   "cell_type": "code",
   "execution_count": 10,
   "id": "d9767e81-780a-4384-84ee-7315f2babf83",
   "metadata": {},
   "outputs": [
    {
     "data": {
      "text/html": [
       "<div>\n",
       "<style scoped>\n",
       "    .dataframe tbody tr th:only-of-type {\n",
       "        vertical-align: middle;\n",
       "    }\n",
       "\n",
       "    .dataframe tbody tr th {\n",
       "        vertical-align: top;\n",
       "    }\n",
       "\n",
       "    .dataframe thead th {\n",
       "        text-align: right;\n",
       "    }\n",
       "</style>\n",
       "<table border=\"1\" class=\"dataframe\">\n",
       "  <thead>\n",
       "    <tr style=\"text-align: right;\">\n",
       "      <th></th>\n",
       "      <th>0</th>\n",
       "      <th>1</th>\n",
       "    </tr>\n",
       "  </thead>\n",
       "  <tbody>\n",
       "    <tr>\n",
       "      <th>0</th>\n",
       "      <td>-0.548606</td>\n",
       "      <td>-0.224056</td>\n",
       "    </tr>\n",
       "    <tr>\n",
       "      <th>1</th>\n",
       "      <td>-0.700767</td>\n",
       "      <td>1.493545</td>\n",
       "    </tr>\n",
       "    <tr>\n",
       "      <th>2</th>\n",
       "      <td>-1.389903</td>\n",
       "      <td>2.139528</td>\n",
       "    </tr>\n",
       "    <tr>\n",
       "      <th>3</th>\n",
       "      <td>-1.135372</td>\n",
       "      <td>0.896265</td>\n",
       "    </tr>\n",
       "    <tr>\n",
       "      <th>4</th>\n",
       "      <td>-1.277650</td>\n",
       "      <td>0.651744</td>\n",
       "    </tr>\n",
       "  </tbody>\n",
       "</table>\n",
       "</div>"
      ],
      "text/plain": [
       "          0         1\n",
       "0 -0.548606 -0.224056\n",
       "1 -0.700767  1.493545\n",
       "2 -1.389903  2.139528\n",
       "3 -1.135372  0.896265\n",
       "4 -1.277650  0.651744"
      ]
     },
     "execution_count": 10,
     "metadata": {},
     "output_type": "execute_result"
    }
   ],
   "source": [
    "x=(x-x.mean())/x.std()\n",
    "x.head()"
   ]
  },
  {
   "cell_type": "code",
   "execution_count": 11,
   "id": "e648cedb-1da5-46a1-a05e-e8cb11c18e2b",
   "metadata": {},
   "outputs": [
    {
     "name": "stdout",
     "output_type": "stream",
     "text": [
      "(80, 2) (20, 2) (80, 1) (20, 1)\n"
     ]
    }
   ],
   "source": [
    "x_train, x_test, y_train, y_test = train_test_split(x, y, test_size=0.2, random_state=42)\n",
    "print(x_train.shape,x_test.shape,y_train.shape,y_test.shape)"
   ]
  },
  {
   "cell_type": "markdown",
   "id": "9c371f7c-0d5e-4369-8d58-4183e4a3d636",
   "metadata": {},
   "source": [
    "#### Q6.1> Use logistic regression to find decision boundary For the given database. Set your learning rate to 0.1. What is the cost function \n",
    "####       value and learning parameter value after convergence?"
   ]
  },
  {
   "cell_type": "code",
   "execution_count": 13,
   "id": "da3df1a9-8ef7-4e7e-af36-5aa77e0e402b",
   "metadata": {},
   "outputs": [],
   "source": [
    "class GDs:\n",
    " def __init__(self, lr, ep):\n",
    "  self.lr=lr\n",
    "  self.ep=ep\n",
    "  self.w=None\n",
    "  self.b=0\n",
    "  self.cost_hist=[]\n",
    " \n",
    " def sigmoid(self,z):\n",
    "  return 1/(1+np.exp(-z))\n",
    " \n",
    " def fit(self,x,y):\n",
    "  x=np.array(x)\n",
    "  y=np.array(y).flatten()\n",
    "  m,n=x.shape\n",
    "  self.w=np.zeros(n)\n",
    "  for i in range(self.ep):\n",
    "   z=np.dot(x,self.w)+self.b\n",
    "   y_pred=self.sigmoid(z)\n",
    "   dw=(1/m)*np.dot(x.T,(y_pred-y))\n",
    "   db=(1/m)*np.sum(y_pred-y)\n",
    "   self.w-=self.lr*dw\n",
    "   self.b-=self.lr*db\n",
    "   cost=-(1/m)*np.sum(y*np.log(y_pred)+(1-y)*np.log(1-y_pred))\n",
    "   self.cost_hist.append(cost)\n",
    " \n",
    " def predict(self,x):\n",
    "  return (self.sigmoid(np.dot(x,self.w)+self.b)>=0.5).astype(int)"
   ]
  },
  {
   "cell_type": "code",
   "execution_count": 14,
   "id": "e8a5165e-2fb5-4795-b71a-3cfe45fb07ff",
   "metadata": {},
   "outputs": [
    {
     "name": "stdout",
     "output_type": "stream",
     "text": [
      "Final Cost: 0.23715367344824523 \n",
      "Weights: [ 2.540013  -2.5843135] \n",
      "Bias: 0.7489117522439074\n"
     ]
    }
   ],
   "source": [
    "model=GDs(lr=0.1,ep=10000)\n",
    "model.fit(x_train,y_train)\n",
    "print(\"Final Cost:\",model.cost_hist[-1],\"\\nWeights:\",model.w,\"\\nBias:\",model.b)"
   ]
  },
  {
   "cell_type": "markdown",
   "id": "67b0145f-0cfb-4ace-b4f4-ef722f819d99",
   "metadata": {},
   "source": [
    "#### Q6.2> Plot cost function v/s iteration graph for the model trained in question 6.1.\n",
    "###  NOTE : Don't use Scatter Plot. "
   ]
  },
  {
   "cell_type": "code",
   "execution_count": 16,
   "id": "11b3a8bd-1ed9-4903-b3c5-30099458b027",
   "metadata": {},
   "outputs": [
    {
     "data": {
      "image/png": "[encoded data removed]",
      "text/plain": [
       "<Figure size 640x480 with 1 Axes>"
      ]
     },
     "metadata": {},
     "output_type": "display_data"
    }
   ],
   "source": [
    "plt.plot(model.cost_hist)\n",
    "plt.xlabel(\"Iterations\")\n",
    "plt.ylabel(\"Cost\")\n",
    "plt.title(\"Cost vs Iterations\")\n",
    "plt.show()"
   ]
  },
  {
   "cell_type": "markdown",
   "id": "497ea976-3002-4277-b135-37fc42d8ee5d",
   "metadata": {},
   "source": [
    "#### Q6.3> Plot the given dataset on a graph, use different colours for different classes and also show the decision boundary you\n",
    "####       obtained in question 1. Do not use scatter plot."
   ]
  },
  {
   "cell_type": "code",
   "execution_count": 18,
   "id": "b783e554-de94-48e9-9bd9-65a6f47519a7",
   "metadata": {},
   "outputs": [
    {
     "data": {
      "image/png": "[encoded data removed]",
      "text/plain": [
       "<Figure size 640x480 with 1 Axes>"
      ]
     },
     "metadata": {},
     "output_type": "display_data"
    }
   ],
   "source": [
    "x1_class0 = x_train[0][y_train[0] == 0].values\n",
    "x2_class0 = x_train[1][y_train[0] == 0].values\n",
    "x1_class1 = x_train[0][y_train[0] == 1].values\n",
    "x2_class1 = x_train[1][y_train[0] == 1].values\n",
    "plt.plot(x1_class0, x2_class0,'ro',label=\"Class 0\")\n",
    "plt.plot(x1_class1, x2_class1,'bo',label=\"Class 1\") \n",
    "x1 =np.linspace(x[0].min(),x[0].max(),100)\n",
    "x2 =(-model.w[0]*x1-model.b)/model.w[1]\n",
    "plt.plot(x1,x2,label=\"Decision Boundary\",color=\"black\")\n",
    "plt.xlabel(\"Feature 1\")\n",
    "plt.ylabel(\"Feature 2\")\n",
    "plt.legend()\n",
    "plt.title(\"Decision Boundary\")\n",
    "plt.show()"
   ]
  },
  {
   "cell_type": "markdown",
   "id": "f7e05a91-c9ea-464a-99dc-3c123ffbc0ec",
   "metadata": {},
   "source": [
    "#### 6.4> Train your model with a learning rate of 0.1 and 5. Plot the cost-function v/s iteration curve for both learning rates on the same graph.     For this task, only train your model for 100 iterations."
   ]
  },
  {
   "cell_type": "code",
   "execution_count": 20,
   "id": "4d986c5e-bb20-4bc9-83d9-030c0c4a7a16",
   "metadata": {},
   "outputs": [
    {
     "data": {
      "image/png": "[encoded data removed]",
      "text/plain": [
       "<Figure size 640x480 with 1 Axes>"
      ]
     },
     "metadata": {},
     "output_type": "display_data"
    }
   ],
   "source": [
    "model2=GDs(lr=5,ep=100)\n",
    "model2.fit(x_train,y_train)\n",
    "plt.plot(model.cost_hist,label=\"lr=0.1\")\n",
    "plt.plot(model2.cost_hist,label=\"lr=5\")\n",
    "plt.xlabel(\"Iterations\")\n",
    "plt.ylabel(\"Cost\")\n",
    "plt.legend()\n",
    "plt.title(\"Cost vs Iterations for Different Learning Rates\")\n",
    "plt.show()"
   ]
  },
  {
   "cell_type": "markdown",
   "id": "04543366-5cc2-46e1-97a1-cbdd75dc4a19",
   "metadata": {},
   "source": [
    "#### Q6.5> Find the confusion matrix for your training dataset. Using the confusion matrix to calculate the accuracy, precision, recall, F1-score."
   ]
  },
  {
   "cell_type": "code",
   "execution_count": 22,
   "id": "9c24dabc-c530-48e4-96cb-b713103c80a7",
   "metadata": {},
   "outputs": [
    {
     "name": "stdout",
     "output_type": "stream",
     "text": [
      "Confusion Matrix:\n",
      " [[10  2]\n",
      " [ 0  8]]\n",
      "Accuracy: 0.9000, \n",
      "Precision: 0.8000, \n",
      "Recall: 1.0000, \n",
      "F1-score: 0.8889\n"
     ]
    }
   ],
   "source": [
    "y_pred=model.predict(x_test)\n",
    "cm=np.zeros((2,2),dtype=int)\n",
    "for i in range(len(y_test)):\n",
    " cm[y_test.iloc[i, 0]][y_pred[i]]+=1\n",
    "\n",
    "acc=np.trace(cm)/np.sum(cm)\n",
    "prec=cm[1,1]/(cm[1,1]+cm[0,1])\n",
    "rec=cm[1,1]/(cm[1,1]+cm[1,0])\n",
    "f1=2*(prec*rec)/(prec+rec)\n",
    "\n",
    "print(\"Confusion Matrix:\\n\",cm)\n",
    "print(f\"Accuracy: {acc:.4f}, \\nPrecision: {prec:.4f}, \\nRecall: {rec:.4f}, \\nF1-score: {f1:.4f}\")"
   ]
  },
  {
   "cell_type": "code",
   "execution_count": 23,
   "id": "55a11e4a-6897-4567-a037-9ea7c84f6708",
   "metadata": {},
   "outputs": [
    {
     "data": {
      "image/png": "[encoded data removed]",
      "text/plain": [
       "<Figure size 600x500 with 2 Axes>"
      ]
     },
     "metadata": {},
     "output_type": "display_data"
    }
   ],
   "source": [
    "import seaborn as sns\n",
    "plt.figure(figsize=(6, 5))\n",
    "sns.heatmap(cm, annot=True,fmt=\"d\",cmap=\"Blues\",xticklabels=[\"Pred:0\", \"Pred:1\"],yticklabels=[\"True:0\",\"True:1\"])\n",
    "plt.title(\"Confusion Matrix\")\n",
    "plt.xlabel(\"Predicted Labels\")\n",
    "plt.ylabel(\"True Labels\")\n",
    "plt.show()"
   ]
  }
 ],
 "metadata": {
  "kernelspec": {
   "display_name": "Python [conda env:base] *",
   "language": "python",
   "name": "conda-base-py"
  },
  "language_info": {
   "codemirror_mode": {
    "name": "ipython",
    "version": 3
   },
   "file_extension": ".py",
   "mimetype": "text/x-python",
   "name": "python",
   "nbconvert_exporter": "python",
   "pygments_lexer": "ipython3",
   "version": "3.12.7"
  }
 },
 "nbformat": 4,
 "nbformat_minor": 5
}
